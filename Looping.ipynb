{
 "cells": [
  {
   "cell_type": "code",
   "execution_count": 2,
   "id": "158d8f3a",
   "metadata": {},
   "outputs": [
    {
     "name": "stdout",
     "output_type": "stream",
     "text": [
      "1 2 3 4 5 6 7 8 9 10 "
     ]
    }
   ],
   "source": [
    "#mencetak angka 1-10\n",
    "\n",
    "for i in range(1,11):\n",
    "    print(i, end=\" \")\n",
    "    "
   ]
  },
  {
   "cell_type": "code",
   "execution_count": 6,
   "id": "94bc7360",
   "metadata": {},
   "outputs": [
    {
     "name": "stdout",
     "output_type": "stream",
     "text": [
      "10 20 30 40 50 60 70 80 90 100 "
     ]
    }
   ],
   "source": [
    "#mencetak angka 10 20 30---100\n",
    "\n",
    "for i in range(1,11):\n",
    "    print(i * 10, end=\" \")"
   ]
  },
  {
   "cell_type": "code",
   "execution_count": 8,
   "id": "29e55f85",
   "metadata": {},
   "outputs": [
    {
     "name": "stdout",
     "output_type": "stream",
     "text": [
      "10 20 30 40 50 60 70 80 90 100 "
     ]
    }
   ],
   "source": [
    "#mencetak angka 10,20,30---100\n",
    "\n",
    "for i in range(10,101,10):\n",
    "    print(i, end=\" \")"
   ]
  },
  {
   "cell_type": "code",
   "execution_count": 9,
   "id": "d9b70f18",
   "metadata": {},
   "outputs": [
    {
     "name": "stdout",
     "output_type": "stream",
     "text": [
      "10 9 8 7 6 5 4 3 2 1 "
     ]
    }
   ],
   "source": [
    "#mencetak angka 10 9 8 7---1\n",
    "\n",
    "for i in range(1,11):\n",
    "    print(11 - i, end=\" \")"
   ]
  },
  {
   "cell_type": "code",
   "execution_count": 10,
   "id": "f2124397",
   "metadata": {},
   "outputs": [
    {
     "name": "stdout",
     "output_type": "stream",
     "text": [
      "10 9 8 7 6 5 4 3 2 1 "
     ]
    }
   ],
   "source": [
    "for i in range(10,0,-1):\n",
    "    print(i, end=\" \")"
   ]
  },
  {
   "cell_type": "code",
   "execution_count": 15,
   "id": "a377d3c9",
   "metadata": {},
   "outputs": [
    {
     "name": "stdout",
     "output_type": "stream",
     "text": [
      "1 -2 3 -4 5 -6 7 -8 9 -10 "
     ]
    }
   ],
   "source": [
    "#mencetak angka 1 -2 3 -4 5 -6---10\n",
    "sign=-1\n",
    "for i in range(1,11):\n",
    "    sign = sign* -1\n",
    "    print(i*sign, end =\" \")"
   ]
  },
  {
   "cell_type": "code",
   "execution_count": 21,
   "id": "87a23a62",
   "metadata": {},
   "outputs": [
    {
     "name": "stdout",
     "output_type": "stream",
     "text": [
      "Isikan Bilangan: 3\n",
      "3! adalah 6\n",
      "3*2*1 = 6\n"
     ]
    }
   ],
   "source": [
    "#mencari bilangan faktorial\n",
    "# input = 3, output = 3 * 2 *1 = 6\n",
    "# input = 4, output = 4 * 3 * 2 * 1 = 24\n",
    "\n",
    "bil = int (input('Isikan Bilangan:'))\n",
    "\n",
    "hasil = 1\n",
    "label =\"\"\n",
    "\n",
    "for i in range(1, bil+1):\n",
    "    hasil = hasil *i\n",
    "    if i < bil:\n",
    "        label = label + str((bil+1) -i) + \"*\"\n",
    "    else:\n",
    "        label = label + str((bil+1) -i)\n",
    "    \n",
    "    \n",
    "print(f\"{bil}! adalah {hasil}\")\n",
    "print(f\"{label} = {hasil}\")\n",
    "\n",
    "    "
   ]
  },
  {
   "cell_type": "code",
   "execution_count": 24,
   "id": "84c129c7",
   "metadata": {},
   "outputs": [
    {
     "name": "stdout",
     "output_type": "stream",
     "text": [
      "Isikan Bilangan:5\n",
      "isikan Pangkat:10\n",
      "5 pangkat 10 adalah 9765625\n"
     ]
    }
   ],
   "source": [
    "bil = int (input('Isikan Bilangan:'))\n",
    "pangkat = int (input('isikan Pangkat:'))\n",
    "label = \"\"\n",
    "hasil = 1\n",
    "for i in range(1, pangkat+1):\n",
    "    hasil*= bil\n",
    "    \n",
    "print(f\"{bil} pangkat {pangkat} adalah {hasil}\")\n"
   ]
  },
  {
   "cell_type": "code",
   "execution_count": 30,
   "id": "31947aac",
   "metadata": {},
   "outputs": [
    {
     "name": "stdout",
     "output_type": "stream",
     "text": [
      "Isikan Bilangan:100\n",
      "100 adalah bukan prima\n"
     ]
    }
   ],
   "source": [
    "#bilangan prima adalah bilangan yang hanya bisa dibagi 1 dan bilangan itu sendiri\n",
    "\n",
    "bil = int(input('Isikan Bilangan:'))\n",
    "keterangan = \"bilangan prima\"\n",
    "\n",
    "for i in range (2, bil):\n",
    "    sisa = bil % i\n",
    "    if sisa == 0:\n",
    "        keterangan = \"bukan prima\"\n",
    "        break \n",
    "    \n",
    "print(f\"{bil} adalah {keterangan}\")\n",
    "    \n",
    "    \n",
    "        "
   ]
  },
  {
   "cell_type": "code",
   "execution_count": 32,
   "id": "472e0a5f",
   "metadata": {},
   "outputs": [
    {
     "name": "stdout",
     "output_type": "stream",
     "text": [
      "1 2 3 4 5 \n",
      "1 2 3 4 6 7 8 9 "
     ]
    }
   ],
   "source": [
    "#Break\n",
    "\n",
    "for i in range (1,100):\n",
    "    print(i, end=\" \")\n",
    "    if i == 5:\n",
    "        break\n",
    "        \n",
    "print()\n",
    "for j in range (1,10):\n",
    "    if j == 5:\n",
    "        continue\n",
    "    print(j, end=\" \")"
   ]
  },
  {
   "cell_type": "code",
   "execution_count": 38,
   "id": "69eb5107",
   "metadata": {},
   "outputs": [
    {
     "name": "stdout",
     "output_type": "stream",
     "text": [
      "Isikan Kalimat:siti nazilah kinaras julainto\n",
      "jumlah huruf a:5\n",
      "jumlah huruf i:5\n",
      "jumlah huruf u:1\n",
      "jumlah huruf e:0\n",
      "jumlah huruf o:1\n",
      "jumlah total huruf vocal:12\n"
     ]
    }
   ],
   "source": [
    "#Looping untuk string,menghitung huruf vokal a=?, i=?, u=?, e=?, o=?\n",
    "kalimat = input(\"Isikan Kalimat:\")\n",
    "vocal_a =0\n",
    "vocal_i =0\n",
    "vocal_u =0\n",
    "vocal_e =0\n",
    "vocal_o =0\n",
    "\n",
    "\n",
    "for i in kalimat:\n",
    "    if i==\"a\":\n",
    "        vocal_a +=1\n",
    "    elif i==\"i\":\n",
    "        vocal_i +=1\n",
    "    elif i==\"u\":\n",
    "        vocal_u +=1\n",
    "    elif i== \"e\":\n",
    "        vocal_e +=1\n",
    "    elif i== \"o\":\n",
    "        vocal_o +=1\n",
    "        \n",
    "print(f\"jumlah huruf a:{vocal_a}\")\n",
    "print(f\"jumlah huruf i:{vocal_i}\")\n",
    "print(f\"jumlah huruf u:{vocal_u}\")\n",
    "print(f\"jumlah huruf e:{vocal_e}\")\n",
    "print(f\"jumlah huruf o:{vocal_o}\")\n",
    "\n",
    "total = vocal_a + vocal_i + vocal_u +vocal_e + vocal_o\n",
    "print(f\"jumlah total huruf vocal:{total}\")\n",
    "\n",
    "\n"
   ]
  },
  {
   "cell_type": "code",
   "execution_count": 1,
   "id": "87e16331",
   "metadata": {},
   "outputs": [
    {
     "name": "stdout",
     "output_type": "stream",
     "text": [
      "Isikan Kalimat:kakak\n",
      "POLINDROME\n",
      "Apakah mau mengulang program Y/T:Y\n",
      "Isikan Kalimat:T\n",
      "POLINDROME\n",
      "Apakah mau mengulang program Y/T:t\n",
      "Apakah mau mengulang program Y/T:Y\n",
      "Isikan Kalimat:SASA\n",
      "BUKAN PALINDROME\n",
      "Apakah mau mengulang program Y/T:T\n"
     ]
    }
   ],
   "source": [
    "#kalimat palindrome atau bukan\n",
    "#katak\n",
    "#kasur surak\n",
    "ulang = \"Y\"\n",
    "while(ulang==\"Y\"):\n",
    "    kalimat = input ('Isikan Kalimat:')\n",
    "    panjang = len(kalimat)\n",
    "    keterangan = \"POLINDROME\"\n",
    "    for i in range(0,panjang):\n",
    "        kika = kalimat[i].lower()\n",
    "        kaki = kalimat[panjang - i-1].lower()\n",
    "        if kika != kaki:\n",
    "            keterangan = \"BUKAN PALINDROME\"\n",
    "            break\n",
    "\n",
    "    print(f\"{keterangan}\")\n",
    "    jawab =\" \"\n",
    "    while(jawab!=\"Y\" and jawab!=\"T\"):\n",
    "        jawab = input(\"Apakah mau mengulang program Y/T:\")\n",
    "        ulang = jawab\n",
    "\n",
    "\n",
    "\n"
   ]
  },
  {
   "cell_type": "code",
   "execution_count": null,
   "id": "8d0d6b21",
   "metadata": {},
   "outputs": [],
   "source": [
    "#Nested FOR \n",
    "\n",
    "for i in range(1,5):\n",
    "    for j in range(1,5):\n",
    "        print(f\"i:)"
   ]
  }
 ],
 "metadata": {
  "kernelspec": {
   "display_name": "Python 3 (ipykernel)",
   "language": "python",
   "name": "python3"
  },
  "language_info": {
   "codemirror_mode": {
    "name": "ipython",
    "version": 3
   },
   "file_extension": ".py",
   "mimetype": "text/x-python",
   "name": "python",
   "nbconvert_exporter": "python",
   "pygments_lexer": "ipython3",
   "version": "3.9.12"
  }
 },
 "nbformat": 4,
 "nbformat_minor": 5
}
